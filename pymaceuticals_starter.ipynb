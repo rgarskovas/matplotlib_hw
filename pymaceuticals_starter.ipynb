{
 "cells": [
  {
   "cell_type": "markdown",
   "metadata": {},
   "source": [
    "## Observations and Insights "
   ]
  },
  {
   "cell_type": "markdown",
   "metadata": {},
   "source": []
  },
  {
   "cell_type": "code",
   "execution_count": 170,
   "metadata": {},
   "outputs": [
    {
     "data": {
      "text/html": [
       "<div>\n",
       "<style scoped>\n",
       "    .dataframe tbody tr th:only-of-type {\n",
       "        vertical-align: middle;\n",
       "    }\n",
       "\n",
       "    .dataframe tbody tr th {\n",
       "        vertical-align: top;\n",
       "    }\n",
       "\n",
       "    .dataframe thead th {\n",
       "        text-align: right;\n",
       "    }\n",
       "</style>\n",
       "<table border=\"1\" class=\"dataframe\">\n",
       "  <thead>\n",
       "    <tr style=\"text-align: right;\">\n",
       "      <th></th>\n",
       "      <th>Mouse ID</th>\n",
       "      <th>Drug Regimen</th>\n",
       "      <th>Sex</th>\n",
       "      <th>Age_months</th>\n",
       "      <th>Weight (g)</th>\n",
       "      <th>Timepoint</th>\n",
       "      <th>Tumor Volume (mm3)</th>\n",
       "      <th>Metastatic Sites</th>\n",
       "    </tr>\n",
       "  </thead>\n",
       "  <tbody>\n",
       "    <tr>\n",
       "      <th>0</th>\n",
       "      <td>k403</td>\n",
       "      <td>Ramicane</td>\n",
       "      <td>Male</td>\n",
       "      <td>21</td>\n",
       "      <td>16</td>\n",
       "      <td>0</td>\n",
       "      <td>45.000000</td>\n",
       "      <td>0</td>\n",
       "    </tr>\n",
       "    <tr>\n",
       "      <th>1</th>\n",
       "      <td>k403</td>\n",
       "      <td>Ramicane</td>\n",
       "      <td>Male</td>\n",
       "      <td>21</td>\n",
       "      <td>16</td>\n",
       "      <td>5</td>\n",
       "      <td>38.825898</td>\n",
       "      <td>0</td>\n",
       "    </tr>\n",
       "    <tr>\n",
       "      <th>2</th>\n",
       "      <td>k403</td>\n",
       "      <td>Ramicane</td>\n",
       "      <td>Male</td>\n",
       "      <td>21</td>\n",
       "      <td>16</td>\n",
       "      <td>10</td>\n",
       "      <td>35.014271</td>\n",
       "      <td>1</td>\n",
       "    </tr>\n",
       "    <tr>\n",
       "      <th>3</th>\n",
       "      <td>k403</td>\n",
       "      <td>Ramicane</td>\n",
       "      <td>Male</td>\n",
       "      <td>21</td>\n",
       "      <td>16</td>\n",
       "      <td>15</td>\n",
       "      <td>34.223992</td>\n",
       "      <td>1</td>\n",
       "    </tr>\n",
       "    <tr>\n",
       "      <th>4</th>\n",
       "      <td>k403</td>\n",
       "      <td>Ramicane</td>\n",
       "      <td>Male</td>\n",
       "      <td>21</td>\n",
       "      <td>16</td>\n",
       "      <td>20</td>\n",
       "      <td>32.997729</td>\n",
       "      <td>1</td>\n",
       "    </tr>\n",
       "    <tr>\n",
       "      <th>...</th>\n",
       "      <td>...</td>\n",
       "      <td>...</td>\n",
       "      <td>...</td>\n",
       "      <td>...</td>\n",
       "      <td>...</td>\n",
       "      <td>...</td>\n",
       "      <td>...</td>\n",
       "      <td>...</td>\n",
       "    </tr>\n",
       "    <tr>\n",
       "      <th>95</th>\n",
       "      <td>u364</td>\n",
       "      <td>Capomulin</td>\n",
       "      <td>Male</td>\n",
       "      <td>18</td>\n",
       "      <td>17</td>\n",
       "      <td>0</td>\n",
       "      <td>45.000000</td>\n",
       "      <td>0</td>\n",
       "    </tr>\n",
       "    <tr>\n",
       "      <th>96</th>\n",
       "      <td>u364</td>\n",
       "      <td>Capomulin</td>\n",
       "      <td>Male</td>\n",
       "      <td>18</td>\n",
       "      <td>17</td>\n",
       "      <td>5</td>\n",
       "      <td>45.760886</td>\n",
       "      <td>1</td>\n",
       "    </tr>\n",
       "    <tr>\n",
       "      <th>97</th>\n",
       "      <td>u364</td>\n",
       "      <td>Capomulin</td>\n",
       "      <td>Male</td>\n",
       "      <td>18</td>\n",
       "      <td>17</td>\n",
       "      <td>10</td>\n",
       "      <td>46.568417</td>\n",
       "      <td>2</td>\n",
       "    </tr>\n",
       "    <tr>\n",
       "      <th>98</th>\n",
       "      <td>u364</td>\n",
       "      <td>Capomulin</td>\n",
       "      <td>Male</td>\n",
       "      <td>18</td>\n",
       "      <td>17</td>\n",
       "      <td>15</td>\n",
       "      <td>47.212200</td>\n",
       "      <td>2</td>\n",
       "    </tr>\n",
       "    <tr>\n",
       "      <th>99</th>\n",
       "      <td>u364</td>\n",
       "      <td>Capomulin</td>\n",
       "      <td>Male</td>\n",
       "      <td>18</td>\n",
       "      <td>17</td>\n",
       "      <td>20</td>\n",
       "      <td>40.343948</td>\n",
       "      <td>2</td>\n",
       "    </tr>\n",
       "  </tbody>\n",
       "</table>\n",
       "<p>100 rows × 8 columns</p>\n",
       "</div>"
      ],
      "text/plain": [
       "   Mouse ID Drug Regimen   Sex  Age_months  Weight (g)  Timepoint  \\\n",
       "0      k403     Ramicane  Male          21          16          0   \n",
       "1      k403     Ramicane  Male          21          16          5   \n",
       "2      k403     Ramicane  Male          21          16         10   \n",
       "3      k403     Ramicane  Male          21          16         15   \n",
       "4      k403     Ramicane  Male          21          16         20   \n",
       "..      ...          ...   ...         ...         ...        ...   \n",
       "95     u364    Capomulin  Male          18          17          0   \n",
       "96     u364    Capomulin  Male          18          17          5   \n",
       "97     u364    Capomulin  Male          18          17         10   \n",
       "98     u364    Capomulin  Male          18          17         15   \n",
       "99     u364    Capomulin  Male          18          17         20   \n",
       "\n",
       "    Tumor Volume (mm3)  Metastatic Sites  \n",
       "0            45.000000                 0  \n",
       "1            38.825898                 0  \n",
       "2            35.014271                 1  \n",
       "3            34.223992                 1  \n",
       "4            32.997729                 1  \n",
       "..                 ...               ...  \n",
       "95           45.000000                 0  \n",
       "96           45.760886                 1  \n",
       "97           46.568417                 2  \n",
       "98           47.212200                 2  \n",
       "99           40.343948                 2  \n",
       "\n",
       "[100 rows x 8 columns]"
      ]
     },
     "execution_count": 170,
     "metadata": {},
     "output_type": "execute_result"
    }
   ],
   "source": [
    "# Dependencies and Setup\n",
    "import matplotlib.pyplot as plt\n",
    "import pandas as pd\n",
    "import scipy.stats as st\n",
    "import numpy as np\n",
    "from scipy.stats import linregress\n",
    "\n",
    "# Study data files\n",
    "mouse_metadata_path = \"data/Mouse_metadata.csv\"\n",
    "study_results_path = \"data/Study_results.csv\"\n",
    "\n",
    "# Read the mouse data and the study results\n",
    "mouse_metadata = pd.read_csv(mouse_metadata_path)\n",
    "study_results = pd.read_csv(study_results_path)\n",
    "\n",
    "# Combine the data into a single dataset\n",
    "trial_data_complete = pd.merge(mouse_metadata, study_results, how=\"left\", on=[\"Mouse ID\", \"Mouse ID\"])\n",
    "\n",
    "trial_data_complete.head(100)"
   ]
  },
  {
   "cell_type": "code",
   "execution_count": 171,
   "metadata": {},
   "outputs": [
    {
     "name": "stdout",
     "output_type": "stream",
     "text": [
      "249\n",
      "1893\n"
     ]
    }
   ],
   "source": [
    "# Checking the number of mice in the DataFrame.\n",
    "total_mice = len(trial_data_complete[\"Mouse ID\"].unique())\n",
    "total_rows = len(trial_data_complete[\"Mouse ID\"])\n",
    "\n",
    "print(total_mice)\n",
    "print(total_rows)"
   ]
  },
  {
   "cell_type": "code",
   "execution_count": 172,
   "metadata": {
    "scrolled": true
   },
   "outputs": [],
   "source": [
    "# Getting the duplicate mice by ID number that shows up for Mouse ID and Timepoint. \n",
    "\n",
    "ids = trial_data_complete[\"Mouse ID\"]\n",
    "duplicates = trial_data_complete[trial_data_complete.duplicated(keep=False)]"
   ]
  },
  {
   "cell_type": "code",
   "execution_count": 173,
   "metadata": {},
   "outputs": [
    {
     "name": "stdout",
     "output_type": "stream",
     "text": [
      "    Mouse ID Drug Regimen     Sex  Age_months  Weight (g)  Timepoint  \\\n",
      "908     g989     Propriva  Female          21          26          0   \n",
      "909     g989     Propriva  Female          21          26          0   \n",
      "\n",
      "     Tumor Volume (mm3)  Metastatic Sites  \n",
      "908                45.0                 0  \n",
      "909                45.0                 0  \n"
     ]
    }
   ],
   "source": [
    "# Optional: Get all the data for the duplicate mouse ID. \n",
    "\n",
    "# print the columns of duplicate mouse\n",
    "print(duplicates)"
   ]
  },
  {
   "cell_type": "code",
   "execution_count": 182,
   "metadata": {},
   "outputs": [],
   "source": [
    "# Create a clean DataFrame by dropping the duplicate mouse by its ID.\n",
    "\n",
    "trial_data_complete.columns = ['Mouse_ID','Drug Regimen','Sex','Age_months','Weight (g)','Timepoint','Tumor Volume (mm3)','Metastatic Sites']\n",
    "\n",
    "trial_data_complete[trial_data_complete.Mouse_ID != 'g989']\n",
    "\n",
    "clean_data = trial_data_complete.drop(trial_data_complete.index[trial_data_complete.Mouse_ID == 'g989'])"
   ]
  },
  {
   "cell_type": "code",
   "execution_count": 183,
   "metadata": {},
   "outputs": [
    {
     "name": "stdout",
     "output_type": "stream",
     "text": [
      "248\n",
      "1880\n"
     ]
    }
   ],
   "source": [
    "# Checking the number of mice in the clean DataFrame.\n",
    "total_mice_clean = len(clean_data[\"Mouse_ID\"].unique())\n",
    "total_rows_clean = len(clean_data[\"Mouse_ID\"])\n",
    "\n",
    "print(total_mice_clean)\n",
    "print(total_rows_clean)\n"
   ]
  },
  {
   "cell_type": "markdown",
   "metadata": {},
   "source": [
    "## Summary Statistics"
   ]
  },
  {
   "cell_type": "code",
   "execution_count": 184,
   "metadata": {
    "scrolled": true
   },
   "outputs": [
    {
     "data": {
      "text/html": [
       "<div>\n",
       "<style scoped>\n",
       "    .dataframe tbody tr th:only-of-type {\n",
       "        vertical-align: middle;\n",
       "    }\n",
       "\n",
       "    .dataframe tbody tr th {\n",
       "        vertical-align: top;\n",
       "    }\n",
       "\n",
       "    .dataframe thead tr th {\n",
       "        text-align: left;\n",
       "    }\n",
       "\n",
       "    .dataframe thead tr:last-of-type th {\n",
       "        text-align: right;\n",
       "    }\n",
       "</style>\n",
       "<table border=\"1\" class=\"dataframe\">\n",
       "  <thead>\n",
       "    <tr>\n",
       "      <th></th>\n",
       "      <th colspan=\"4\" halign=\"left\">Tumor Volume (mm3)</th>\n",
       "    </tr>\n",
       "    <tr>\n",
       "      <th></th>\n",
       "      <th>sum</th>\n",
       "      <th>median</th>\n",
       "      <th>std</th>\n",
       "      <th>sem</th>\n",
       "    </tr>\n",
       "    <tr>\n",
       "      <th>Drug Regimen</th>\n",
       "      <th></th>\n",
       "      <th></th>\n",
       "      <th></th>\n",
       "      <th></th>\n",
       "    </tr>\n",
       "  </thead>\n",
       "  <tbody>\n",
       "    <tr>\n",
       "      <th>Capomulin</th>\n",
       "      <td>9355.420462</td>\n",
       "      <td>41.557809</td>\n",
       "      <td>4.994774</td>\n",
       "      <td>0.329346</td>\n",
       "    </tr>\n",
       "    <tr>\n",
       "      <th>Ceftamin</th>\n",
       "      <td>9361.228582</td>\n",
       "      <td>51.776157</td>\n",
       "      <td>6.268188</td>\n",
       "      <td>0.469821</td>\n",
       "    </tr>\n",
       "    <tr>\n",
       "      <th>Infubinol</th>\n",
       "      <td>9413.493529</td>\n",
       "      <td>51.820584</td>\n",
       "      <td>6.567243</td>\n",
       "      <td>0.492236</td>\n",
       "    </tr>\n",
       "    <tr>\n",
       "      <th>Ketapril</th>\n",
       "      <td>10384.299876</td>\n",
       "      <td>53.698743</td>\n",
       "      <td>8.279709</td>\n",
       "      <td>0.603860</td>\n",
       "    </tr>\n",
       "    <tr>\n",
       "      <th>Naftisol</th>\n",
       "      <td>10105.671026</td>\n",
       "      <td>52.509285</td>\n",
       "      <td>8.134708</td>\n",
       "      <td>0.596466</td>\n",
       "    </tr>\n",
       "    <tr>\n",
       "      <th>Placebo</th>\n",
       "      <td>9780.078122</td>\n",
       "      <td>52.288934</td>\n",
       "      <td>7.821003</td>\n",
       "      <td>0.581331</td>\n",
       "    </tr>\n",
       "    <tr>\n",
       "      <th>Propriva</th>\n",
       "      <td>7743.497619</td>\n",
       "      <td>50.446266</td>\n",
       "      <td>6.622085</td>\n",
       "      <td>0.544332</td>\n",
       "    </tr>\n",
       "    <tr>\n",
       "      <th>Ramicane</th>\n",
       "      <td>9169.417875</td>\n",
       "      <td>40.673236</td>\n",
       "      <td>4.846308</td>\n",
       "      <td>0.320955</td>\n",
       "    </tr>\n",
       "    <tr>\n",
       "      <th>Stelasyn</th>\n",
       "      <td>9816.199991</td>\n",
       "      <td>52.431737</td>\n",
       "      <td>7.710419</td>\n",
       "      <td>0.573111</td>\n",
       "    </tr>\n",
       "    <tr>\n",
       "      <th>Zoniferol</th>\n",
       "      <td>9689.044192</td>\n",
       "      <td>51.818479</td>\n",
       "      <td>6.966589</td>\n",
       "      <td>0.516398</td>\n",
       "    </tr>\n",
       "  </tbody>\n",
       "</table>\n",
       "</div>"
      ],
      "text/plain": [
       "             Tumor Volume (mm3)                               \n",
       "                            sum     median       std       sem\n",
       "Drug Regimen                                                  \n",
       "Capomulin           9355.420462  41.557809  4.994774  0.329346\n",
       "Ceftamin            9361.228582  51.776157  6.268188  0.469821\n",
       "Infubinol           9413.493529  51.820584  6.567243  0.492236\n",
       "Ketapril           10384.299876  53.698743  8.279709  0.603860\n",
       "Naftisol           10105.671026  52.509285  8.134708  0.596466\n",
       "Placebo             9780.078122  52.288934  7.821003  0.581331\n",
       "Propriva            7743.497619  50.446266  6.622085  0.544332\n",
       "Ramicane            9169.417875  40.673236  4.846308  0.320955\n",
       "Stelasyn            9816.199991  52.431737  7.710419  0.573111\n",
       "Zoniferol           9689.044192  51.818479  6.966589  0.516398"
      ]
     },
     "execution_count": 184,
     "metadata": {},
     "output_type": "execute_result"
    }
   ],
   "source": [
    "# Generate a summary statistics table of mean, median, variance, standard deviation, and SEM of the tumor volume for each regimen\n",
    "\n",
    "# This method produces everything in a single groupby function.\n",
    "\n",
    "\n",
    "clean_data.groupby('Drug Regimen').agg({'Tumor Volume (mm3)' : ['sum', 'median', 'std', 'sem']})\n"
   ]
  },
  {
   "cell_type": "code",
   "execution_count": 185,
   "metadata": {
    "scrolled": true
   },
   "outputs": [
    {
     "data": {
      "text/html": [
       "<div>\n",
       "<style scoped>\n",
       "    .dataframe tbody tr th:only-of-type {\n",
       "        vertical-align: middle;\n",
       "    }\n",
       "\n",
       "    .dataframe tbody tr th {\n",
       "        vertical-align: top;\n",
       "    }\n",
       "\n",
       "    .dataframe thead th {\n",
       "        text-align: right;\n",
       "    }\n",
       "</style>\n",
       "<table border=\"1\" class=\"dataframe\">\n",
       "  <thead>\n",
       "    <tr style=\"text-align: right;\">\n",
       "      <th></th>\n",
       "      <th>Mean Tumor Volume (mm3)</th>\n",
       "      <th>Median Tumor Volume (mm3)</th>\n",
       "      <th>Standard Deviation Tumor Volume (mm3)</th>\n",
       "      <th>SEM Tumor Volume (mm3)</th>\n",
       "    </tr>\n",
       "    <tr>\n",
       "      <th>Drug Regimen</th>\n",
       "      <th></th>\n",
       "      <th></th>\n",
       "      <th></th>\n",
       "      <th></th>\n",
       "    </tr>\n",
       "  </thead>\n",
       "  <tbody>\n",
       "    <tr>\n",
       "      <th>Capomulin</th>\n",
       "      <td>40.675741</td>\n",
       "      <td>41.557809</td>\n",
       "      <td>4.994774</td>\n",
       "      <td>0.329346</td>\n",
       "    </tr>\n",
       "    <tr>\n",
       "      <th>Ceftamin</th>\n",
       "      <td>52.591172</td>\n",
       "      <td>51.776157</td>\n",
       "      <td>6.268188</td>\n",
       "      <td>0.469821</td>\n",
       "    </tr>\n",
       "    <tr>\n",
       "      <th>Infubinol</th>\n",
       "      <td>52.884795</td>\n",
       "      <td>51.820584</td>\n",
       "      <td>6.567243</td>\n",
       "      <td>0.492236</td>\n",
       "    </tr>\n",
       "    <tr>\n",
       "      <th>Ketapril</th>\n",
       "      <td>55.235638</td>\n",
       "      <td>53.698743</td>\n",
       "      <td>8.279709</td>\n",
       "      <td>0.603860</td>\n",
       "    </tr>\n",
       "    <tr>\n",
       "      <th>Naftisol</th>\n",
       "      <td>54.331565</td>\n",
       "      <td>52.509285</td>\n",
       "      <td>8.134708</td>\n",
       "      <td>0.596466</td>\n",
       "    </tr>\n",
       "    <tr>\n",
       "      <th>Placebo</th>\n",
       "      <td>54.033581</td>\n",
       "      <td>52.288934</td>\n",
       "      <td>7.821003</td>\n",
       "      <td>0.581331</td>\n",
       "    </tr>\n",
       "    <tr>\n",
       "      <th>Propriva</th>\n",
       "      <td>52.320930</td>\n",
       "      <td>50.446266</td>\n",
       "      <td>6.622085</td>\n",
       "      <td>0.544332</td>\n",
       "    </tr>\n",
       "    <tr>\n",
       "      <th>Ramicane</th>\n",
       "      <td>40.216745</td>\n",
       "      <td>40.673236</td>\n",
       "      <td>4.846308</td>\n",
       "      <td>0.320955</td>\n",
       "    </tr>\n",
       "    <tr>\n",
       "      <th>Stelasyn</th>\n",
       "      <td>54.233149</td>\n",
       "      <td>52.431737</td>\n",
       "      <td>7.710419</td>\n",
       "      <td>0.573111</td>\n",
       "    </tr>\n",
       "    <tr>\n",
       "      <th>Zoniferol</th>\n",
       "      <td>53.236507</td>\n",
       "      <td>51.818479</td>\n",
       "      <td>6.966589</td>\n",
       "      <td>0.516398</td>\n",
       "    </tr>\n",
       "  </tbody>\n",
       "</table>\n",
       "</div>"
      ],
      "text/plain": [
       "              Mean Tumor Volume (mm3)  Median Tumor Volume (mm3)  \\\n",
       "Drug Regimen                                                       \n",
       "Capomulin                   40.675741                  41.557809   \n",
       "Ceftamin                    52.591172                  51.776157   \n",
       "Infubinol                   52.884795                  51.820584   \n",
       "Ketapril                    55.235638                  53.698743   \n",
       "Naftisol                    54.331565                  52.509285   \n",
       "Placebo                     54.033581                  52.288934   \n",
       "Propriva                    52.320930                  50.446266   \n",
       "Ramicane                    40.216745                  40.673236   \n",
       "Stelasyn                    54.233149                  52.431737   \n",
       "Zoniferol                   53.236507                  51.818479   \n",
       "\n",
       "              Standard Deviation Tumor Volume (mm3)  SEM Tumor Volume (mm3)  \n",
       "Drug Regimen                                                                 \n",
       "Capomulin                                  4.994774                0.329346  \n",
       "Ceftamin                                   6.268188                0.469821  \n",
       "Infubinol                                  6.567243                0.492236  \n",
       "Ketapril                                   8.279709                0.603860  \n",
       "Naftisol                                   8.134708                0.596466  \n",
       "Placebo                                    7.821003                0.581331  \n",
       "Propriva                                   6.622085                0.544332  \n",
       "Ramicane                                   4.846308                0.320955  \n",
       "Stelasyn                                   7.710419                0.573111  \n",
       "Zoniferol                                  6.966589                0.516398  "
      ]
     },
     "execution_count": 185,
     "metadata": {},
     "output_type": "execute_result"
    }
   ],
   "source": [
    "# Generate a summary statistics table of mean, median, variance, standard deviation, and SEM of the tumor volume for each regimen\n",
    "\n",
    "treatments = [\"Capomulin\", \"Ceftamin\", \"Infubinol\", \"Ketapril\", \"Naftisol\", \"Placebo\", \"Propriva\", \"Ramicane\", \"Stelasyn\", \"Zoniferol\",]\n",
    "\n",
    "# group studies by their Regimen\n",
    "grouped_studies_df = clean_data.groupby([\"Drug Regimen\"])\n",
    "\n",
    "# create summary statistics for the grouped studies\n",
    "avg_volume_per_study = grouped_studies_df[\"Tumor Volume (mm3)\"].mean()\n",
    "med_volume_per_study = grouped_studies_df[\"Tumor Volume (mm3)\"].median()\n",
    "std_volume_per_study = grouped_studies_df[\"Tumor Volume (mm3)\"].std()\n",
    "sem_volume_per_study = grouped_studies_df[\"Tumor Volume (mm3)\"].sem()\n",
    "\n",
    "# create data summary\n",
    "statistics_summary_df = pd.DataFrame({\"Mean Tumor Volume (mm3)\": avg_volume_per_study,\n",
    "                                  \"Median Tumor Volume (mm3)\": med_volume_per_study,\n",
    "                                  \"Standard Deviation Tumor Volume (mm3)\": std_volume_per_study,\n",
    "                                  \"SEM Tumor Volume (mm3)\": sem_volume_per_study,})\n",
    "# create and print dataframe\n",
    "statistics_summary_df.head(100, )\n",
    "\n"
   ]
  },
  {
   "cell_type": "markdown",
   "metadata": {},
   "source": [
    "## Bar Plots"
   ]
  },
  {
   "cell_type": "code",
   "execution_count": 189,
   "metadata": {
    "scrolled": true
   },
   "outputs": [
    {
     "data": {
      "image/png": "[encoded data removed]",
      "text/plain": [
       "<Figure size 432x288 with 1 Axes>"
      ]
     },
     "metadata": {
      "needs_background": "light"
     },
     "output_type": "display_data"
    }
   ],
   "source": [
    "# Generate a bar plot showing the number of mice per time point for each treatment throughout the course of the study using pandas.\n",
    "\n",
    "# create a list of the treatments\n",
    "treatments = [\"Capomulin\", \"Ceftamin\", \"Infubinol\", \"Ketapril\", \"Naftisol\", \"Placebo\", \"Propriva\", \"Ramicane\", \"Stelasyn\", \"Zoniferol\",]\n",
    "\n",
    "# create a measure for the number of mice per study and build a dframe\n",
    "mice_per = grouped_studies_df[\"Mouse_ID\"].count()\n",
    "mice_count_df = pd.DataFrame({\"Number of mice\": mice_per,})\n",
    "\n",
    "# plot the mice across treatments on a bar chart\n",
    "x_axis = np.arange(len(treatments))\n",
    "mice_count = mice_count_df[\"Number of mice\"]\n",
    "mice_count_group = mice_count_df.groupby(\"Drug Regimen\")\n",
    "\n",
    "# create data summary\n",
    "df = pd.DataFrame({\"Treatments\": treatments,\n",
    "                                  \"Mice Count\": mice_count,})\n",
    "\n",
    "ax = df.plot.bar()"
   ]
  },
  {
   "cell_type": "code",
   "execution_count": 192,
   "metadata": {},
   "outputs": [
    {
     "data": {
      "text/plain": [
       "Text(0, 0.5, 'Number of Mice')"
      ]
     },
     "execution_count": 192,
     "metadata": {},
     "output_type": "execute_result"
    },
    {
     "data": {
      "image/png": "[encoded data removed]",
      "text/plain": [
       "<Figure size 432x288 with 1 Axes>"
      ]
     },
     "metadata": {
      "needs_background": "light"
     },
     "output_type": "display_data"
    }
   ],
   "source": [
    "# Generate a bar plot showing the number of mice per time point for each treatment throughout the course of the study using pyplot.\n",
    "\n",
    "treatments = [\"Capomulin\", \"Ceftamin\", \"Infubinol\", \"Ketapril\", \"Naftisol\", \"Placebo\", \"Propriva\", \"Ramicane\", \"Stelasyn\", \"Zoniferol\",]\n",
    "\n",
    "# group studies by mouse\n",
    "mice_per = grouped_studies_df[\"Mouse_ID\"].count()\n",
    "mice_count_df = pd.DataFrame({\"Number of mice\": mice_per,})\n",
    "\n",
    "# create a count of the mice and add the treatments to break the mice down\n",
    "mice_count = mice_count_df[\"Number of mice\"]\n",
    "x_axis = np.arange(len(treatments))\n",
    "\n",
    "# plot the treatments as x and mice count as y\n",
    "plt.bar(x_axis, mice_count, color='r', alpha=0.5, align=\"center\")\n",
    "tick_locations = [value for value in x_axis]\n",
    "plt.xticks(rotation=45)\n",
    "plt.xticks(tick_locations, treatments)\n",
    "\n",
    "# add title and axis labels\n",
    "plt.title(\"Total Number of Mice per Treatment\")\n",
    "plt.xlabel(\"Drug Regimen\")\n",
    "plt.ylabel(\"Number of Mice\")"
   ]
  },
  {
   "cell_type": "markdown",
   "metadata": {},
   "source": [
    "## Pie Plots"
   ]
  },
  {
   "cell_type": "code",
   "execution_count": 197,
   "metadata": {},
   "outputs": [
    {
     "data": {
      "text/plain": [
       "Text(0, 0.5, 'Number of mice per gender')"
      ]
     },
     "execution_count": 197,
     "metadata": {},
     "output_type": "execute_result"
    },
    {
     "data": {
      "image/png": "[encoded data removed]",
      "text/plain": [
       "<Figure size 432x288 with 1 Axes>"
      ]
     },
     "metadata": {},
     "output_type": "display_data"
    }
   ],
   "source": [
    "# Generate a pie plot showing the distribution of female versus male mice using pandas\n",
    "\n",
    "unique_mice_df = clean_data.groupby([\"Mouse_ID\"])\n",
    "\n",
    "\n",
    "\n",
    "# Find out how many of each gender took bike trips\n",
    "gender_groups = clean_data.groupby([\"Sex\"])\n",
    "gender_studies = gender_groups[\"Mouse_ID\"].count()\n",
    "\n",
    "\n",
    "# list of available genders\n",
    "gender_list = [\"Male\", \"Female\"]\n",
    "\n",
    "# Create a pie chart based upon the trip duration of that single bike\n",
    "study_pie = gender_studies.plot(kind=\"pie\", y=gender_list, title=(\"% of mice included in study per gender\"))\n",
    "study_pie.set_ylabel(\"Number of mice per gender\")\n",
    "study_pie.set_ylabel(\"Number of mice per gender\")"
   ]
  },
  {
   "cell_type": "code",
   "execution_count": 207,
   "metadata": {},
   "outputs": [
    {
     "name": "stderr",
     "output_type": "stream",
     "text": [
      "C:\\Users\\rgarskovas\\Anaconda3\\lib\\site-packages\\ipykernel_launcher.py:9: MatplotlibDeprecationWarning: Non-1D inputs to pie() are currently squeeze()d, but this behavior is deprecated since 3.1 and will be removed in 3.3; pass a 1D array instead.\n",
      "  if __name__ == '__main__':\n"
     ]
    },
    {
     "data": {
      "image/png": "[encoded data removed]",
      "text/plain": [
       "<Figure size 432x288 with 1 Axes>"
      ]
     },
     "metadata": {},
     "output_type": "display_data"
    }
   ],
   "source": [
    "# Generate a pie plot showing the distribution of female versus male mice using pyplot\n",
    "\n",
    "# labels and sizes based on gender data\n",
    "labels = gender_list\n",
    "sizes = [gender_studies]\n",
    "\n",
    "# create plot and dimensions\n",
    "fig1, ax1 = plt.subplots()\n",
    "ax1.pie(sizes, labels=labels, autopct='%1.1f%%', startangle=90)\n",
    "ax1.axis('equal')  # Equal aspect ratio ensures that pie is drawn as a circle.\n",
    "plt.suptitle(\"% of mice included in study per gender\")\n",
    "\n",
    "plt.show()\n"
   ]
  },
  {
   "cell_type": "markdown",
   "metadata": {},
   "source": [
    "## Quartiles, Outliers and Boxplots"
   ]
  },
  {
   "cell_type": "code",
   "execution_count": 199,
   "metadata": {},
   "outputs": [
    {
     "name": "stdout",
     "output_type": "stream",
     "text": [
      "The final tumor volume for Capomulin is: 37.07402422\n",
      "The final tumor volume for Ceftamin is: 64.72983655\n",
      "The final tumor volume for Infubinol is: 62.75445141\n",
      "The final tumor volume for Ketapril is: 62.90944062\n",
      "The lower quartile of volumes is: 45.0\n",
      "The upper quartile of volumes is: 56.30563288\n",
      "The interquartile range of volumes is: 11.305632879999997\n",
      "The the median of volumes is: 48.95791906 \n",
      "Values below 28.041550680000004 could be outliers.\n",
      "Values above 73.26408219999999 could be outliers.\n"
     ]
    }
   ],
   "source": [
    "# Calculate the final tumor volume of each mouse across four of the most promising treatment regimens. Calculate the IQR and quantitatively determine if there are any potential outliers. \n",
    "\n",
    "# filter for the four most promising treatment areas\n",
    "Capomulin_df = clean_data.loc[clean_data[\"Drug Regimen\"] == \"Capomulin\", :]\n",
    "Ceftamin_df = clean_data.loc[clean_data[\"Drug Regimen\"] == \"Ceftamin\", :]\n",
    "Infubinol_df = clean_data.loc[clean_data[\"Drug Regimen\"] == \"Infubinol\", :]\n",
    "Ketapril_df = clean_data.loc[clean_data[\"Drug Regimen\"] == \"Ketapril\", :]\n",
    "\n",
    "# find the last timepoint for each of the promising treatment areas\n",
    "final_tumor_volume_Capomulin = Capomulin_df.sort_values(\"Timepoint\").drop_duplicates(['Drug Regimen'], keep='last')\n",
    "final_tumor_volume_Ceftamin = Ceftamin_df.sort_values(\"Timepoint\").drop_duplicates(['Drug Regimen'], keep='last')\n",
    "final_tumor_volume_Infubinol = Infubinol_df.sort_values(\"Timepoint\").drop_duplicates(['Drug Regimen'], keep='last')\n",
    "final_tumor_volume_Ketapril = Ketapril_df.sort_values(\"Timepoint\").drop_duplicates(['Drug Regimen'], keep='last')\n",
    "\n",
    "# take the value for each of the last time points\n",
    "final_tumor_volume_Capomulin_mm3 = final_tumor_volume_Capomulin.iloc[0]['Tumor Volume (mm3)']\n",
    "final_tumor_volume_Ceftamin_mm3 = final_tumor_volume_Ceftamin.iloc[0]['Tumor Volume (mm3)']\n",
    "final_tumor_volume_Infubinol_mm3 = final_tumor_volume_Infubinol.iloc[0]['Tumor Volume (mm3)']\n",
    "final_tumor_volume_Ketapril_mm3 = final_tumor_volume_Ketapril.iloc[0]['Tumor Volume (mm3)']\n",
    "\n",
    "# print the final tumor volumes for each of the promising treatment areas\n",
    "print(f\"The final tumor volume for Capomulin is: {final_tumor_volume_Capomulin_mm3}\")\n",
    "print(f\"The final tumor volume for Ceftamin is: {final_tumor_volume_Ceftamin_mm3}\")\n",
    "print(f\"The final tumor volume for Infubinol is: {final_tumor_volume_Infubinol_mm3}\")\n",
    "print(f\"The final tumor volume for Ketapril is: {final_tumor_volume_Ketapril_mm3}\")\n",
    "\n",
    "\n",
    "# Find quartile calculations\n",
    "quartiles = total_volume_list.quantile([.25,.5,.75])\n",
    "lowerq = quartiles[0.25]\n",
    "upperq = quartiles[0.75]\n",
    "iqr = upperq-lowerq\n",
    "\n",
    "# Print quartiles\n",
    "print(f\"The lower quartile of volumes is: {lowerq}\")\n",
    "print(f\"The upper quartile of volumes is: {upperq}\")\n",
    "print(f\"The interquartile range of volumes is: {iqr}\")\n",
    "print(f\"The the median of volumes is: {quartiles[0.5]} \")\n",
    "\n",
    "# find and print the lower bounds for outliers\n",
    "lower_bound = lowerq - (1.5*iqr)\n",
    "upper_bound = upperq + (1.5*iqr)\n",
    "print(f\"Values below {lower_bound} could be outliers.\")\n",
    "print(f\"Values above {upper_bound} could be outliers.\")"
   ]
  },
  {
   "cell_type": "code",
   "execution_count": 200,
   "metadata": {},
   "outputs": [
    {
     "data": {
      "image/png": "[encoded data removed]",
      "text/plain": [
       "<Figure size 432x288 with 1 Axes>"
      ]
     },
     "metadata": {
      "needs_background": "light"
     },
     "output_type": "display_data"
    }
   ],
   "source": [
    "# Generate a box plot of the final tumor volume of each mouse across four regimens of interest\n",
    "\n",
    "# make a list of sampled regimines\n",
    "sampled_regimens = ['Capomulin', 'Ceftamin', 'Infubinol', 'Ketapril']\n",
    "\n",
    "# create a list for the sampled regimines and their volumes\n",
    "tumor_volumes = [Capomulin_df[\"Tumor Volume (mm3)\"], Ceftamin_df[\"Tumor Volume (mm3)\"], Infubinol_df[\"Tumor Volume (mm3)\"],Ketapril_df[\"Tumor Volume (mm3)\"]]\n",
    "\n",
    "# create the subplot with titles\n",
    "fig1, ax1 = plt.subplots()\n",
    "ax1.set_title('Final Tumor Volume for four drugs')\n",
    "ax1.set_xlabel('Regimen type')\n",
    "ax1.set_ylabel('Final tumor volume (mm3)')\n",
    "\n",
    "# print labels\n",
    "ax1.set_xticklabels(np.repeat(sampled_regimens, 1),\n",
    "                    rotation=45, fontsize=8)\n",
    "\n",
    "# create box plot from the subplot\n",
    "ax1.boxplot(tumor_volumes)\n",
    "plt.show()\n"
   ]
  },
  {
   "cell_type": "markdown",
   "metadata": {},
   "source": [
    "## Line and Scatter Plots"
   ]
  },
  {
   "cell_type": "code",
   "execution_count": 202,
   "metadata": {},
   "outputs": [
    {
     "data": {
      "image/png": "[encoded data removed]",
      "text/plain": [
       "<Figure size 432x288 with 1 Axes>"
      ]
     },
     "metadata": {
      "needs_background": "light"
     },
     "output_type": "display_data"
    }
   ],
   "source": [
    "\n",
    "#Filter for Capomulin only\n",
    "Capomulin_df = clean_data.loc[clean_data[\"Drug Regimen\"] == \"Capomulin\", :]\n",
    "\n",
    "#Filter for specific mouse\n",
    "Capomulin_Mouse_df = Capomulin_df.loc[Capomulin_df[\"Mouse_ID\"] == \"u364\", :]\n",
    "\n",
    "# List of tumor volumes and timepoints\n",
    "Tumor_per_Capomulin_mouse = Capomulin_Mouse_df[\"Tumor Volume (mm3)\"]\n",
    "Timepoint = Capomulin_Mouse_df[\"Timepoint\"]\n",
    "\n",
    "# print the time point as x axis and volume as y with labels\n",
    "tumor_time_capomulin, = plt.plot(Timepoint, Tumor_per_Capomulin_mouse, color=\"blue\" )\n",
    "plt.title(\"Capomulin treatment of mouse u364\")\n",
    "plt.xlabel(\"Timepoint (days)\")\n",
    "plt.ylabel(\"Tumor Volume (mm3)\")\n",
    "\n",
    "\n",
    "# Show the chart\n",
    "plt.show()"
   ]
  },
  {
   "cell_type": "code",
   "execution_count": 208,
   "metadata": {},
   "outputs": [
    {
     "data": {
      "image/png": "[encoded data removed]",
      "text/plain": [
       "<Figure size 432x288 with 1 Axes>"
      ]
     },
     "metadata": {
      "needs_background": "light"
     },
     "output_type": "display_data"
    }
   ],
   "source": [
    "# Generate a scatter plot of mouse weight versus average tumor volume for the Capomulin regimen\n",
    "\n",
    "# create an x axis of weight and a y axis of tumor volume\n",
    "x_values = Capomulin_df['Weight (g)']\n",
    "y_values = Capomulin_df['Tumor Volume (mm3)']\n",
    "\n",
    "# plot the values on a scatter plot with labels\n",
    "plt.scatter(x_values,y_values)\n",
    "plt.xlabel('Weight')\n",
    "plt.ylabel('Tumor Volume (mm3)')\n",
    "plt.suptitle(\"Scatter plot of tumor volume by weight for mice\")\n",
    "\n",
    "plt.show()"
   ]
  },
  {
   "cell_type": "markdown",
   "metadata": {},
   "source": [
    "## Correlation and Regression"
   ]
  },
  {
   "cell_type": "code",
   "execution_count": 210,
   "metadata": {},
   "outputs": [
    {
     "data": {
      "image/png": "[encoded data removed]",
      "text/plain": [
       "<Figure size 432x288 with 1 Axes>"
      ]
     },
     "metadata": {
      "needs_background": "light"
     },
     "output_type": "display_data"
    },
    {
     "name": "stdout",
     "output_type": "stream",
     "text": [
      "The r-squared is: 0.2763600223455911\n"
     ]
    }
   ],
   "source": [
    "# Calculate the correlation coefficient and linear regression model \n",
    "# for mouse weight and average tumor volume for the Capomulin regimen\n",
    "\n",
    "# use the x and y values from the Capomulin scatter and create a linear regression\n",
    "(slope, intercept, rvalue, pvalue, stderr) = linregress(x_values, y_values)\n",
    "regress_values = x_values * slope + intercept\n",
    "line_eq = \"y = \" + str(round(slope,2)) + \"x + \" + str(round(intercept,2))\n",
    "\n",
    "# plot the scatter plot and the regression\n",
    "plt.scatter(x_values,y_values)\n",
    "plt.plot(x_values,regress_values,\"r-\")\n",
    "plt.annotate(line_eq,(6,10),fontsize=15,color=\"red\")\n",
    "plt.xlabel('Mouse Weight')\n",
    "plt.ylabel('Tumor Volume (mm3)')\n",
    "plt.suptitle(\"Scatter plot of tumor volume by weight for mice and regression trend\")\n",
    "plt.show()\n",
    "\n",
    "\n",
    "# find the r squared volume and print\n",
    "print(f\"The r-squared is: {rvalue**2}\")\n",
    "plt.show()"
   ]
  },
  {
   "cell_type": "code",
   "execution_count": null,
   "metadata": {},
   "outputs": [],
   "source": []
  },
  {
   "cell_type": "code",
   "execution_count": null,
   "metadata": {},
   "outputs": [],
   "source": []
  }
 ],
 "metadata": {
  "anaconda-cloud": {},
  "kernelspec": {
   "display_name": "Python 3",
   "language": "python",
   "name": "python3"
  },
  "language_info": {
   "codemirror_mode": {
    "name": "ipython",
    "version": 3
   },
   "file_extension": ".py",
   "mimetype": "text/x-python",
   "name": "python",
   "nbconvert_exporter": "python",
   "pygments_lexer": "ipython3",
   "version": "3.7.6"
  }
 },
 "nbformat": 4,
 "nbformat_minor": 2
}
